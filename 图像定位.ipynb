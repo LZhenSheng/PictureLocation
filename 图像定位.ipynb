{
 "cells": [
  {
   "cell_type": "code",
   "execution_count": 1,
   "metadata": {
    "_cell_guid": "b1076dfc-b9ad-4769-8c92-a6c4dae69d19",
    "_uuid": "8f2839f25d086af736a60e9eeb907d3b93b6e0e5",
    "execution": {
     "iopub.execute_input": "2022-06-23T12:58:52.930306Z",
     "iopub.status.busy": "2022-06-23T12:58:52.929597Z",
     "iopub.status.idle": "2022-06-23T12:58:54.388610Z",
     "shell.execute_reply": "2022-06-23T12:58:54.387663Z",
     "shell.execute_reply.started": "2022-06-23T12:58:52.930221Z"
    }
   },
   "outputs": [],
   "source": [
    "import tensorflow as tf\n",
    "import matplotlib.pyplot as plt\n",
    "%matplotlib inline\n",
    "from lxml import etree\n",
    "from matplotlib.patches import Rectangle\n",
    "import numpy as np\n",
    "import glob"
   ]
  },
  {
   "cell_type": "code",
   "execution_count": 2,
   "metadata": {
    "execution": {
     "iopub.execute_input": "2022-06-23T12:58:54.392058Z",
     "iopub.status.busy": "2022-06-23T12:58:54.391082Z",
     "iopub.status.idle": "2022-06-23T12:58:54.428078Z",
     "shell.execute_reply": "2022-06-23T12:58:54.427221Z",
     "shell.execute_reply.started": "2022-06-23T12:58:54.392002Z"
    }
   },
   "outputs": [],
   "source": [
    "images = glob.glob('../input/imagelocationandsegmentation/图片定位与分割数据集/images/*.jpg')"
   ]
  },
  {
   "cell_type": "code",
   "execution_count": 3,
   "metadata": {
    "execution": {
     "iopub.execute_input": "2022-06-23T12:58:54.429840Z",
     "iopub.status.busy": "2022-06-23T12:58:54.429488Z",
     "iopub.status.idle": "2022-06-23T12:58:54.439687Z",
     "shell.execute_reply": "2022-06-23T12:58:54.438744Z",
     "shell.execute_reply.started": "2022-06-23T12:58:54.429804Z"
    }
   },
   "outputs": [],
   "source": [
    "len(images)"
   ]
  },
  {
   "cell_type": "code",
   "execution_count": 4,
   "metadata": {
    "execution": {
     "iopub.execute_input": "2022-06-23T12:58:54.444805Z",
     "iopub.status.busy": "2022-06-23T12:58:54.444108Z",
     "iopub.status.idle": "2022-06-23T12:58:54.468824Z",
     "shell.execute_reply": "2022-06-23T12:58:54.467846Z",
     "shell.execute_reply.started": "2022-06-23T12:58:54.444767Z"
    }
   },
   "outputs": [],
   "source": [
    "xmls = glob.glob('../input/imagelocationandsegmentation/图片定位与分割数据集/annotations/xmls/*.xml')"
   ]
  },
  {
   "cell_type": "code",
   "execution_count": 5,
   "metadata": {
    "execution": {
     "iopub.execute_input": "2022-06-23T12:58:54.471160Z",
     "iopub.status.busy": "2022-06-23T12:58:54.470470Z",
     "iopub.status.idle": "2022-06-23T12:58:54.477328Z",
     "shell.execute_reply": "2022-06-23T12:58:54.476180Z",
     "shell.execute_reply.started": "2022-06-23T12:58:54.471124Z"
    }
   },
   "outputs": [],
   "source": [
    "len(xmls)"
   ]
  },
  {
   "cell_type": "code",
   "execution_count": 6,
   "metadata": {
    "execution": {
     "iopub.execute_input": "2022-06-23T12:58:54.479962Z",
     "iopub.status.busy": "2022-06-23T12:58:54.479100Z",
     "iopub.status.idle": "2022-06-23T12:58:54.489745Z",
     "shell.execute_reply": "2022-06-23T12:58:54.488737Z",
     "shell.execute_reply.started": "2022-06-23T12:58:54.479915Z"
    }
   },
   "outputs": [],
   "source": [
    "xmls_names = [x.split('/')[-1].split('.xml')[0] for x in xmls]"
   ]
  },
  {
   "cell_type": "code",
   "execution_count": 7,
   "metadata": {
    "execution": {
     "iopub.execute_input": "2022-06-23T12:58:54.492294Z",
     "iopub.status.busy": "2022-06-23T12:58:54.491499Z",
     "iopub.status.idle": "2022-06-23T12:58:54.500417Z",
     "shell.execute_reply": "2022-06-23T12:58:54.499174Z",
     "shell.execute_reply.started": "2022-06-23T12:58:54.492257Z"
    }
   },
   "outputs": [],
   "source": [
    "len(xmls_names)"
   ]
  },
  {
   "cell_type": "code",
   "execution_count": 8,
   "metadata": {
    "execution": {
     "iopub.execute_input": "2022-06-23T12:58:54.503332Z",
     "iopub.status.busy": "2022-06-23T12:58:54.502447Z",
     "iopub.status.idle": "2022-06-23T12:58:54.519456Z",
     "shell.execute_reply": "2022-06-23T12:58:54.518212Z",
     "shell.execute_reply.started": "2022-06-23T12:58:54.503293Z"
    }
   },
   "outputs": [],
   "source": [
    "images_names = [x.split('/')[-1].split('.jpg')[0] for x in images]"
   ]
  },
  {
   "cell_type": "code",
   "execution_count": 9,
   "metadata": {
    "execution": {
     "iopub.execute_input": "2022-06-23T12:58:54.521719Z",
     "iopub.status.busy": "2022-06-23T12:58:54.521009Z",
     "iopub.status.idle": "2022-06-23T12:58:54.528756Z",
     "shell.execute_reply": "2022-06-23T12:58:54.527558Z",
     "shell.execute_reply.started": "2022-06-23T12:58:54.521672Z"
    }
   },
   "outputs": [],
   "source": [
    "images_names[:3]"
   ]
  },
  {
   "cell_type": "code",
   "execution_count": 10,
   "metadata": {
    "execution": {
     "iopub.execute_input": "2022-06-23T12:58:54.531546Z",
     "iopub.status.busy": "2022-06-23T12:58:54.530591Z",
     "iopub.status.idle": "2022-06-23T12:58:54.539162Z",
     "shell.execute_reply": "2022-06-23T12:58:54.538090Z",
     "shell.execute_reply.started": "2022-06-23T12:58:54.531506Z"
    }
   },
   "outputs": [],
   "source": [
    "names = list(set(images_names)&set(xmls_names))"
   ]
  },
  {
   "cell_type": "code",
   "execution_count": 11,
   "metadata": {
    "execution": {
     "iopub.execute_input": "2022-06-23T12:58:54.541919Z",
     "iopub.status.busy": "2022-06-23T12:58:54.541027Z",
     "iopub.status.idle": "2022-06-23T12:58:54.550211Z",
     "shell.execute_reply": "2022-06-23T12:58:54.548973Z",
     "shell.execute_reply.started": "2022-06-23T12:58:54.541880Z"
    }
   },
   "outputs": [],
   "source": [
    "len(names)"
   ]
  },
  {
   "cell_type": "code",
   "execution_count": 12,
   "metadata": {
    "execution": {
     "iopub.execute_input": "2022-06-23T12:58:54.553207Z",
     "iopub.status.busy": "2022-06-23T12:58:54.552297Z",
     "iopub.status.idle": "2022-06-23T12:58:54.780380Z",
     "shell.execute_reply": "2022-06-23T12:58:54.779483Z",
     "shell.execute_reply.started": "2022-06-23T12:58:54.553162Z"
    }
   },
   "outputs": [],
   "source": [
    "imgs = [img for img in images if img.split('/')[-1].split('.jpg')[0] in names]"
   ]
  },
  {
   "cell_type": "code",
   "execution_count": 13,
   "metadata": {
    "execution": {
     "iopub.execute_input": "2022-06-23T12:58:54.786531Z",
     "iopub.status.busy": "2022-06-23T12:58:54.785942Z",
     "iopub.status.idle": "2022-06-23T12:58:54.794299Z",
     "shell.execute_reply": "2022-06-23T12:58:54.792737Z",
     "shell.execute_reply.started": "2022-06-23T12:58:54.786495Z"
    }
   },
   "outputs": [],
   "source": [
    "len(imgs)"
   ]
  },
  {
   "cell_type": "code",
   "execution_count": 14,
   "metadata": {
    "execution": {
     "iopub.execute_input": "2022-06-23T12:58:54.797406Z",
     "iopub.status.busy": "2022-06-23T12:58:54.797127Z",
     "iopub.status.idle": "2022-06-23T12:58:54.805431Z",
     "shell.execute_reply": "2022-06-23T12:58:54.804103Z",
     "shell.execute_reply.started": "2022-06-23T12:58:54.797381Z"
    }
   },
   "outputs": [],
   "source": [
    "imgs[:3]"
   ]
  },
  {
   "cell_type": "code",
   "execution_count": 15,
   "metadata": {
    "execution": {
     "iopub.execute_input": "2022-06-23T12:58:54.807560Z",
     "iopub.status.busy": "2022-06-23T12:58:54.806974Z",
     "iopub.status.idle": "2022-06-23T12:58:54.815624Z",
     "shell.execute_reply": "2022-06-23T12:58:54.814365Z",
     "shell.execute_reply.started": "2022-06-23T12:58:54.807520Z"
    }
   },
   "outputs": [],
   "source": [
    "imgs[-3:]"
   ]
  },
  {
   "cell_type": "code",
   "execution_count": 16,
   "metadata": {
    "execution": {
     "iopub.execute_input": "2022-06-23T12:58:54.818629Z",
     "iopub.status.busy": "2022-06-23T12:58:54.817287Z",
     "iopub.status.idle": "2022-06-23T12:58:54.835226Z",
     "shell.execute_reply": "2022-06-23T12:58:54.834005Z",
     "shell.execute_reply.started": "2022-06-23T12:58:54.818586Z"
    }
   },
   "outputs": [],
   "source": [
    "imgs.sort(key=lambda x: x.split('\\\\')[-1].split('.jpg')[0])"
   ]
  },
  {
   "cell_type": "code",
   "execution_count": 17,
   "metadata": {
    "execution": {
     "iopub.execute_input": "2022-06-23T12:58:54.837994Z",
     "iopub.status.busy": "2022-06-23T12:58:54.836988Z",
     "iopub.status.idle": "2022-06-23T12:58:54.855281Z",
     "shell.execute_reply": "2022-06-23T12:58:54.853811Z",
     "shell.execute_reply.started": "2022-06-23T12:58:54.837952Z"
    }
   },
   "outputs": [],
   "source": [
    "xmls.sort(key=lambda x: x.split('\\\\')[-1].split('.xml')[0])"
   ]
  },
  {
   "cell_type": "code",
   "execution_count": 18,
   "metadata": {
    "execution": {
     "iopub.execute_input": "2022-06-23T12:58:54.857923Z",
     "iopub.status.busy": "2022-06-23T12:58:54.856813Z",
     "iopub.status.idle": "2022-06-23T12:58:54.862507Z",
     "shell.execute_reply": "2022-06-23T12:58:54.861420Z",
     "shell.execute_reply.started": "2022-06-23T12:58:54.857854Z"
    }
   },
   "outputs": [],
   "source": [
    "scal = 224"
   ]
  },
  {
   "cell_type": "code",
   "execution_count": 19,
   "metadata": {
    "execution": {
     "iopub.execute_input": "2022-06-23T12:58:54.865395Z",
     "iopub.status.busy": "2022-06-23T12:58:54.864244Z",
     "iopub.status.idle": "2022-06-23T12:58:54.874836Z",
     "shell.execute_reply": "2022-06-23T12:58:54.873529Z",
     "shell.execute_reply.started": "2022-06-23T12:58:54.865306Z"
    }
   },
   "outputs": [],
   "source": [
    "def to_labels(path):\n",
    "    xml = open(r'{}'.format(path)).read()\n",
    "    sel = etree.HTML(xml)\n",
    "    width = int(sel.xpath('//size/width/text()')[0])\n",
    "    height = int(sel.xpath('//size/height/text()')[0])\n",
    "    xmin = int(sel.xpath('//bndbox/xmin/text()')[0])\n",
    "    ymin = int(sel.xpath('//bndbox/ymin/text()')[0])\n",
    "    xmax = int(sel.xpath('//bndbox/xmax/text()')[0])\n",
    "    ymax = int(sel.xpath('//bndbox/ymax/text()')[0])\n",
    "    return [xmin/width, ymin/height, xmax/width, ymax/height]"
   ]
  },
  {
   "cell_type": "code",
   "execution_count": 20,
   "metadata": {
    "execution": {
     "iopub.execute_input": "2022-06-23T12:58:54.877581Z",
     "iopub.status.busy": "2022-06-23T12:58:54.876498Z",
     "iopub.status.idle": "2022-06-23T12:59:00.058609Z",
     "shell.execute_reply": "2022-06-23T12:59:00.057652Z",
     "shell.execute_reply.started": "2022-06-23T12:58:54.877544Z"
    }
   },
   "outputs": [],
   "source": [
    "labels = [to_labels(path) for path in xmls]"
   ]
  },
  {
   "cell_type": "code",
   "execution_count": 21,
   "metadata": {
    "execution": {
     "iopub.execute_input": "2022-06-23T12:59:00.060773Z",
     "iopub.status.busy": "2022-06-23T12:59:00.060174Z",
     "iopub.status.idle": "2022-06-23T12:59:00.068684Z",
     "shell.execute_reply": "2022-06-23T12:59:00.067539Z",
     "shell.execute_reply.started": "2022-06-23T12:59:00.060737Z"
    }
   },
   "outputs": [],
   "source": [
    "out1_label, out2_label, out3_label, out4_label = list(zip(*labels))"
   ]
  },
  {
   "cell_type": "code",
   "execution_count": 22,
   "metadata": {
    "execution": {
     "iopub.execute_input": "2022-06-23T12:59:00.071388Z",
     "iopub.status.busy": "2022-06-23T12:59:00.070583Z",
     "iopub.status.idle": "2022-06-23T12:59:00.084960Z",
     "shell.execute_reply": "2022-06-23T12:59:00.083651Z",
     "shell.execute_reply.started": "2022-06-23T12:59:00.071350Z"
    }
   },
   "outputs": [],
   "source": [
    "len(out1_label), len(out2_label), len(out3_label), len(out4_label)"
   ]
  },
  {
   "cell_type": "code",
   "execution_count": 23,
   "metadata": {
    "execution": {
     "iopub.execute_input": "2022-06-23T12:59:00.088185Z",
     "iopub.status.busy": "2022-06-23T12:59:00.087181Z",
     "iopub.status.idle": "2022-06-23T12:59:00.093772Z",
     "shell.execute_reply": "2022-06-23T12:59:00.092493Z",
     "shell.execute_reply.started": "2022-06-23T12:59:00.088143Z"
    }
   },
   "outputs": [],
   "source": [
    "index = np.random.permutation(len(imgs))"
   ]
  },
  {
   "cell_type": "code",
   "execution_count": 24,
   "metadata": {
    "execution": {
     "iopub.execute_input": "2022-06-23T12:59:00.096875Z",
     "iopub.status.busy": "2022-06-23T12:59:00.095870Z",
     "iopub.status.idle": "2022-06-23T12:59:00.107390Z",
     "shell.execute_reply": "2022-06-23T12:59:00.106390Z",
     "shell.execute_reply.started": "2022-06-23T12:59:00.096838Z"
    }
   },
   "outputs": [],
   "source": [
    "images = np.array(imgs)[index]\n"
   ]
  },
  {
   "cell_type": "code",
   "execution_count": 25,
   "metadata": {
    "execution": {
     "iopub.execute_input": "2022-06-23T12:59:00.109756Z",
     "iopub.status.busy": "2022-06-23T12:59:00.108996Z",
     "iopub.status.idle": "2022-06-23T12:59:00.119099Z",
     "shell.execute_reply": "2022-06-23T12:59:00.117833Z",
     "shell.execute_reply.started": "2022-06-23T12:59:00.109719Z"
    }
   },
   "outputs": [],
   "source": [
    "out1_label = np.array(out1_label)[index]\n",
    "out2_label = np.array(out2_label)[index]\n",
    "out3_label = np.array(out3_label)[index]\n",
    "out4_label = np.array(out4_label)[index]"
   ]
  },
  {
   "cell_type": "code",
   "execution_count": 26,
   "metadata": {
    "execution": {
     "iopub.execute_input": "2022-06-23T12:59:00.122232Z",
     "iopub.status.busy": "2022-06-23T12:59:00.121356Z",
     "iopub.status.idle": "2022-06-23T12:59:01.106739Z",
     "shell.execute_reply": "2022-06-23T12:59:01.105371Z",
     "shell.execute_reply.started": "2022-06-23T12:59:00.122187Z"
    }
   },
   "outputs": [],
   "source": [
    "label_datset = tf.data.Dataset.from_tensor_slices((\n",
    "                                              out1_label, \n",
    "                                              out2_label, \n",
    "                                              out3_label, \n",
    "                                              out4_label))"
   ]
  },
  {
   "cell_type": "code",
   "execution_count": 27,
   "metadata": {
    "execution": {
     "iopub.execute_input": "2022-06-23T12:59:01.109082Z",
     "iopub.status.busy": "2022-06-23T12:59:01.108404Z",
     "iopub.status.idle": "2022-06-23T12:59:01.118100Z",
     "shell.execute_reply": "2022-06-23T12:59:01.116829Z",
     "shell.execute_reply.started": "2022-06-23T12:59:01.109024Z"
    }
   },
   "outputs": [],
   "source": [
    "image_dataset = tf.data.Dataset.from_tensor_slices(images)"
   ]
  },
  {
   "cell_type": "code",
   "execution_count": 28,
   "metadata": {
    "execution": {
     "iopub.execute_input": "2022-06-23T12:59:01.120729Z",
     "iopub.status.busy": "2022-06-23T12:59:01.120037Z",
     "iopub.status.idle": "2022-06-23T12:59:01.130863Z",
     "shell.execute_reply": "2022-06-23T12:59:01.129456Z",
     "shell.execute_reply.started": "2022-06-23T12:59:01.120691Z"
    }
   },
   "outputs": [],
   "source": [
    "label_datset"
   ]
  },
  {
   "cell_type": "code",
   "execution_count": 29,
   "metadata": {
    "execution": {
     "iopub.execute_input": "2022-06-23T12:59:01.133739Z",
     "iopub.status.busy": "2022-06-23T12:59:01.132829Z",
     "iopub.status.idle": "2022-06-23T12:59:01.139701Z",
     "shell.execute_reply": "2022-06-23T12:59:01.138214Z",
     "shell.execute_reply.started": "2022-06-23T12:59:01.133632Z"
    }
   },
   "outputs": [],
   "source": [
    "def read_jpg(path):\n",
    "    img = tf.io.read_file(path)\n",
    "    img = tf.image.decode_jpeg(img, channels=3)\n",
    "    return img"
   ]
  },
  {
   "cell_type": "code",
   "execution_count": 30,
   "metadata": {
    "execution": {
     "iopub.execute_input": "2022-06-23T12:59:01.142534Z",
     "iopub.status.busy": "2022-06-23T12:59:01.141755Z",
     "iopub.status.idle": "2022-06-23T12:59:01.148968Z",
     "shell.execute_reply": "2022-06-23T12:59:01.147618Z",
     "shell.execute_reply.started": "2022-06-23T12:59:01.142494Z"
    }
   },
   "outputs": [],
   "source": [
    "def normalize(input_image):\n",
    "    input_image = tf.image.resize(input_image, [scal, scal])\n",
    "    input_image = tf.cast(input_image, tf.float32)/127.5 - 1\n",
    "    return input_image"
   ]
  },
  {
   "cell_type": "code",
   "execution_count": 31,
   "metadata": {
    "execution": {
     "iopub.execute_input": "2022-06-23T12:59:01.151563Z",
     "iopub.status.busy": "2022-06-23T12:59:01.150856Z",
     "iopub.status.idle": "2022-06-23T12:59:01.158631Z",
     "shell.execute_reply": "2022-06-23T12:59:01.157275Z",
     "shell.execute_reply.started": "2022-06-23T12:59:01.151527Z"
    }
   },
   "outputs": [],
   "source": [
    "@tf.function\n",
    "def load_image(input_image_path):\n",
    "    input_image = read_jpg(input_image_path)\n",
    "    input_image = normalize(input_image)\n",
    "    return input_image"
   ]
  },
  {
   "cell_type": "code",
   "execution_count": 32,
   "metadata": {
    "execution": {
     "iopub.execute_input": "2022-06-23T12:59:01.161291Z",
     "iopub.status.busy": "2022-06-23T12:59:01.160449Z",
     "iopub.status.idle": "2022-06-23T12:59:01.304258Z",
     "shell.execute_reply": "2022-06-23T12:59:01.303330Z",
     "shell.execute_reply.started": "2022-06-23T12:59:01.161252Z"
    }
   },
   "outputs": [],
   "source": [
    "image_dataset = image_dataset.map(load_image, num_parallel_calls=tf.data.experimental.AUTOTUNE)"
   ]
  },
  {
   "cell_type": "code",
   "execution_count": 33,
   "metadata": {
    "execution": {
     "iopub.execute_input": "2022-06-23T12:59:01.310752Z",
     "iopub.status.busy": "2022-06-23T12:59:01.310490Z",
     "iopub.status.idle": "2022-06-23T12:59:01.318816Z",
     "shell.execute_reply": "2022-06-23T12:59:01.317474Z",
     "shell.execute_reply.started": "2022-06-23T12:59:01.310728Z"
    }
   },
   "outputs": [],
   "source": [
    "image_dataset"
   ]
  },
  {
   "cell_type": "code",
   "execution_count": 34,
   "metadata": {
    "execution": {
     "iopub.execute_input": "2022-06-23T12:59:01.321246Z",
     "iopub.status.busy": "2022-06-23T12:59:01.320528Z",
     "iopub.status.idle": "2022-06-23T12:59:01.329133Z",
     "shell.execute_reply": "2022-06-23T12:59:01.327851Z",
     "shell.execute_reply.started": "2022-06-23T12:59:01.321206Z"
    }
   },
   "outputs": [],
   "source": [
    "dataset = tf.data.Dataset.zip((image_dataset, label_datset))"
   ]
  },
  {
   "cell_type": "code",
   "execution_count": 35,
   "metadata": {
    "execution": {
     "iopub.execute_input": "2022-06-23T12:59:01.332248Z",
     "iopub.status.busy": "2022-06-23T12:59:01.331259Z",
     "iopub.status.idle": "2022-06-23T12:59:01.340826Z",
     "shell.execute_reply": "2022-06-23T12:59:01.339631Z",
     "shell.execute_reply.started": "2022-06-23T12:59:01.332186Z"
    }
   },
   "outputs": [],
   "source": [
    "dataset"
   ]
  },
  {
   "cell_type": "code",
   "execution_count": 36,
   "metadata": {
    "execution": {
     "iopub.execute_input": "2022-06-23T12:59:01.343695Z",
     "iopub.status.busy": "2022-06-23T12:59:01.342734Z",
     "iopub.status.idle": "2022-06-23T12:59:01.348824Z",
     "shell.execute_reply": "2022-06-23T12:59:01.347630Z",
     "shell.execute_reply.started": "2022-06-23T12:59:01.343656Z"
    }
   },
   "outputs": [],
   "source": [
    "test_count = int(len(images)*0.2)"
   ]
  },
  {
   "cell_type": "code",
   "execution_count": 37,
   "metadata": {
    "execution": {
     "iopub.execute_input": "2022-06-23T12:59:01.351559Z",
     "iopub.status.busy": "2022-06-23T12:59:01.350661Z",
     "iopub.status.idle": "2022-06-23T12:59:01.359746Z",
     "shell.execute_reply": "2022-06-23T12:59:01.358563Z",
     "shell.execute_reply.started": "2022-06-23T12:59:01.351518Z"
    }
   },
   "outputs": [],
   "source": [
    "test_count"
   ]
  },
  {
   "cell_type": "code",
   "execution_count": 38,
   "metadata": {
    "execution": {
     "iopub.execute_input": "2022-06-23T12:59:01.362506Z",
     "iopub.status.busy": "2022-06-23T12:59:01.361578Z",
     "iopub.status.idle": "2022-06-23T12:59:01.367687Z",
     "shell.execute_reply": "2022-06-23T12:59:01.366574Z",
     "shell.execute_reply.started": "2022-06-23T12:59:01.362466Z"
    }
   },
   "outputs": [],
   "source": [
    "train_count = len(images) - test_count"
   ]
  },
  {
   "cell_type": "code",
   "execution_count": 39,
   "metadata": {
    "execution": {
     "iopub.execute_input": "2022-06-23T12:59:01.370446Z",
     "iopub.status.busy": "2022-06-23T12:59:01.369563Z",
     "iopub.status.idle": "2022-06-23T12:59:01.376898Z",
     "shell.execute_reply": "2022-06-23T12:59:01.375777Z",
     "shell.execute_reply.started": "2022-06-23T12:59:01.370407Z"
    }
   },
   "outputs": [],
   "source": [
    "dataset_train = dataset.skip(test_count)"
   ]
  },
  {
   "cell_type": "code",
   "execution_count": 40,
   "metadata": {
    "execution": {
     "iopub.execute_input": "2022-06-23T12:59:01.379716Z",
     "iopub.status.busy": "2022-06-23T12:59:01.378803Z",
     "iopub.status.idle": "2022-06-23T12:59:01.385180Z",
     "shell.execute_reply": "2022-06-23T12:59:01.383983Z",
     "shell.execute_reply.started": "2022-06-23T12:59:01.379677Z"
    }
   },
   "outputs": [],
   "source": [
    "dataset_test = dataset.take(test_count)"
   ]
  },
  {
   "cell_type": "code",
   "execution_count": 41,
   "metadata": {
    "execution": {
     "iopub.execute_input": "2022-06-23T12:59:01.388029Z",
     "iopub.status.busy": "2022-06-23T12:59:01.387136Z",
     "iopub.status.idle": "2022-06-23T12:59:01.393317Z",
     "shell.execute_reply": "2022-06-23T12:59:01.392229Z",
     "shell.execute_reply.started": "2022-06-23T12:59:01.387993Z"
    }
   },
   "outputs": [],
   "source": [
    "BATCH_SIZE = 8\n",
    "BUFFER_SIZE = 300\n",
    "STEPS_PER_EPOCH = train_count // BATCH_SIZE\n",
    "VALIDATION_STEPS = test_count // BATCH_SIZE"
   ]
  },
  {
   "cell_type": "code",
   "execution_count": 42,
   "metadata": {
    "execution": {
     "iopub.execute_input": "2022-06-23T12:59:01.396058Z",
     "iopub.status.busy": "2022-06-23T12:59:01.395160Z",
     "iopub.status.idle": "2022-06-23T12:59:01.407553Z",
     "shell.execute_reply": "2022-06-23T12:59:01.406307Z",
     "shell.execute_reply.started": "2022-06-23T12:59:01.396003Z"
    }
   },
   "outputs": [],
   "source": [
    "train_dataset = dataset_train.shuffle(BUFFER_SIZE).batch(BATCH_SIZE).repeat()\n",
    "train_dataset = train_dataset.prefetch(buffer_size=tf.data.experimental.AUTOTUNE)\n",
    "test_dataset = dataset_test.batch(BATCH_SIZE)"
   ]
  },
  {
   "cell_type": "code",
   "execution_count": 43,
   "metadata": {
    "execution": {
     "iopub.execute_input": "2022-06-23T12:59:01.409776Z",
     "iopub.status.busy": "2022-06-23T12:59:01.409075Z",
     "iopub.status.idle": "2022-06-23T12:59:01.416704Z",
     "shell.execute_reply": "2022-06-23T12:59:01.415479Z",
     "shell.execute_reply.started": "2022-06-23T12:59:01.409739Z"
    }
   },
   "outputs": [],
   "source": [
    "train_dataset"
   ]
  },
  {
   "cell_type": "code",
   "execution_count": 44,
   "metadata": {
    "execution": {
     "iopub.execute_input": "2022-06-23T12:59:01.419394Z",
     "iopub.status.busy": "2022-06-23T12:59:01.418555Z",
     "iopub.status.idle": "2022-06-23T12:59:01.427161Z",
     "shell.execute_reply": "2022-06-23T12:59:01.425882Z",
     "shell.execute_reply.started": "2022-06-23T12:59:01.419355Z"
    }
   },
   "outputs": [],
   "source": [
    "%matplotlib inline"
   ]
  },
  {
   "cell_type": "code",
   "execution_count": 45,
   "metadata": {
    "execution": {
     "iopub.execute_input": "2022-06-23T12:59:01.429883Z",
     "iopub.status.busy": "2022-06-23T12:59:01.428944Z",
     "iopub.status.idle": "2022-06-23T12:59:04.152553Z",
     "shell.execute_reply": "2022-06-23T12:59:04.151599Z",
     "shell.execute_reply.started": "2022-06-23T12:59:01.429843Z"
    }
   },
   "outputs": [],
   "source": [
    "for img, label in train_dataset.take(1):\n",
    "    plt.imshow(tf.keras.preprocessing.image.array_to_img(img[0]))\n",
    "    out1, out2, out3, out4 = label\n",
    "    xmin, ymin, xmax, ymax = (out1[0]).numpy()*scal, (out2[0]).numpy()*scal, (out3[0]).numpy()*scal, (out4[0]).numpy()*scal\n",
    "    rect = Rectangle((xmin, ymin), (xmax-xmin), (ymax-ymin), fill=False, color='red')\n",
    "    ax = plt.gca()\n",
    "    ax.axes.add_patch(rect)"
   ]
  },
  {
   "cell_type": "code",
   "execution_count": 46,
   "metadata": {
    "execution": {
     "iopub.execute_input": "2022-06-23T12:59:04.156314Z",
     "iopub.status.busy": "2022-06-23T12:59:04.153603Z",
     "iopub.status.idle": "2022-06-23T12:59:05.234070Z",
     "shell.execute_reply": "2022-06-23T12:59:05.233081Z",
     "shell.execute_reply.started": "2022-06-23T12:59:04.156273Z"
    }
   },
   "outputs": [],
   "source": [
    "xception = tf.keras.applications.Xception(weights='imagenet', \n",
    "                                          include_top=False,\n",
    "                                          input_shape=(scal, scal, 3))"
   ]
  },
  {
   "cell_type": "code",
   "execution_count": 47,
   "metadata": {
    "execution": {
     "iopub.execute_input": "2022-06-23T12:59:05.239992Z",
     "iopub.status.busy": "2022-06-23T12:59:05.239303Z",
     "iopub.status.idle": "2022-06-23T12:59:05.585957Z",
     "shell.execute_reply": "2022-06-23T12:59:05.584888Z",
     "shell.execute_reply.started": "2022-06-23T12:59:05.239950Z"
    }
   },
   "outputs": [],
   "source": [
    "inputs = tf.keras.layers.Input(shape=(scal, scal, 3))\n",
    "\n",
    "x = xception(inputs)\n",
    "\n",
    "x = tf.keras.layers.GlobalAveragePooling2D()(x)\n",
    "\n",
    "x = tf.keras.layers.Dense(2048, activation='relu')(x)\n",
    "x = tf.keras.layers.Dense(256, activation='relu')(x)\n",
    "\n",
    "out1 = tf.keras.layers.Dense(1)(x)\n",
    "out2 = tf.keras.layers.Dense(1)(x)\n",
    "out3 = tf.keras.layers.Dense(1)(x)\n",
    "out4 = tf.keras.layers.Dense(1)(x)\n",
    "\n",
    "predictions = [out1, out2, out3, out4]\n",
    "\n",
    "model = tf.keras.models.Model(inputs=inputs, outputs=predictions)"
   ]
  },
  {
   "cell_type": "code",
   "execution_count": 48,
   "metadata": {
    "execution": {
     "iopub.execute_input": "2022-06-23T12:59:05.587813Z",
     "iopub.status.busy": "2022-06-23T12:59:05.587475Z",
     "iopub.status.idle": "2022-06-23T12:59:05.604776Z",
     "shell.execute_reply": "2022-06-23T12:59:05.603498Z",
     "shell.execute_reply.started": "2022-06-23T12:59:05.587777Z"
    }
   },
   "outputs": [],
   "source": [
    "model.compile(optimizer=tf.keras.optimizers.Adam(learning_rate=0.0001), \n",
    "              loss='mse',\n",
    "              metrics=['mae'])"
   ]
  },
  {
   "cell_type": "code",
   "execution_count": 49,
   "metadata": {
    "execution": {
     "iopub.execute_input": "2022-06-23T12:59:05.606902Z",
     "iopub.status.busy": "2022-06-23T12:59:05.606287Z",
     "iopub.status.idle": "2022-06-23T12:59:05.611519Z",
     "shell.execute_reply": "2022-06-23T12:59:05.610436Z",
     "shell.execute_reply.started": "2022-06-23T12:59:05.606865Z"
    }
   },
   "outputs": [],
   "source": [
    "EPOCHS = 5"
   ]
  },
  {
   "cell_type": "code",
   "execution_count": 50,
   "metadata": {
    "execution": {
     "iopub.execute_input": "2022-06-23T12:59:05.614293Z",
     "iopub.status.busy": "2022-06-23T12:59:05.613370Z",
     "iopub.status.idle": "2022-06-23T13:03:32.076473Z",
     "shell.execute_reply": "2022-06-23T13:03:32.075393Z",
     "shell.execute_reply.started": "2022-06-23T12:59:05.614253Z"
    }
   },
   "outputs": [],
   "source": [
    "history = model.fit(train_dataset, \n",
    "                          epochs=EPOCHS,\n",
    "                          steps_per_epoch=STEPS_PER_EPOCH,\n",
    "                          validation_steps=VALIDATION_STEPS,\n",
    "                          validation_data=test_dataset)"
   ]
  },
  {
   "cell_type": "code",
   "execution_count": 51,
   "metadata": {
    "execution": {
     "iopub.execute_input": "2022-06-23T13:03:32.082336Z",
     "iopub.status.busy": "2022-06-23T13:03:32.080996Z",
     "iopub.status.idle": "2022-06-23T13:03:32.278951Z",
     "shell.execute_reply": "2022-06-23T13:03:32.278036Z",
     "shell.execute_reply.started": "2022-06-23T13:03:32.082294Z"
    }
   },
   "outputs": [],
   "source": [
    "loss = history.history['loss']\n",
    "val_loss = history.history['val_loss']\n",
    "\n",
    "epochs = range(EPOCHS)\n",
    "\n",
    "plt.figure()\n",
    "plt.plot(epochs, loss, 'r', label='Training loss')\n",
    "plt.plot(epochs, val_loss, 'bo', label='Validation loss')\n",
    "plt.title('Training and Validation Loss')\n",
    "plt.xlabel('Epoch')\n",
    "plt.ylabel('Loss Value')\n",
    "plt.ylim([0, 1])\n",
    "plt.legend()\n",
    "plt.show()"
   ]
  },
  {
   "cell_type": "code",
   "execution_count": 53,
   "metadata": {
    "execution": {
     "iopub.execute_input": "2022-06-23T13:06:36.530554Z",
     "iopub.status.busy": "2022-06-23T13:06:36.529497Z",
     "iopub.status.idle": "2022-06-23T13:06:37.580611Z",
     "shell.execute_reply": "2022-06-23T13:06:37.579492Z",
     "shell.execute_reply.started": "2022-06-23T13:06:36.530503Z"
    }
   },
   "outputs": [],
   "source": [
    "model.save('detect_v1.h5')"
   ]
  },
  {
   "cell_type": "code",
   "execution_count": 54,
   "metadata": {
    "execution": {
     "iopub.execute_input": "2022-06-23T13:06:47.280995Z",
     "iopub.status.busy": "2022-06-23T13:06:47.279900Z",
     "iopub.status.idle": "2022-06-23T13:06:49.187639Z",
     "shell.execute_reply": "2022-06-23T13:06:49.186646Z",
     "shell.execute_reply.started": "2022-06-23T13:06:47.280939Z"
    }
   },
   "outputs": [],
   "source": [
    "new_model = tf.keras.models.load_model('./detect_v1.h5')"
   ]
  },
  {
   "cell_type": "code",
   "execution_count": 55,
   "metadata": {
    "execution": {
     "iopub.execute_input": "2022-06-23T13:06:50.644618Z",
     "iopub.status.busy": "2022-06-23T13:06:50.643988Z",
     "iopub.status.idle": "2022-06-23T13:06:52.460610Z",
     "shell.execute_reply": "2022-06-23T13:06:52.459704Z",
     "shell.execute_reply.started": "2022-06-23T13:06:50.644580Z"
    }
   },
   "outputs": [],
   "source": [
    "plt.figure(figsize=(8, 24))\n",
    "for img, _ in test_dataset.take(1):\n",
    "    out1, out2, out3, out4 = new_model.predict(img)\n",
    "    for i in range(6):\n",
    "        plt.subplot(6, 1, i+1)\n",
    "        plt.imshow(tf.keras.preprocessing.image.array_to_img(img[i]))\n",
    "        xmin, ymin, xmax, ymax = out1[i]*224, out2[i]*224, out3[i]*224, out4[i]*224,\n",
    "        rect = Rectangle((xmin, ymin), (xmax-xmin), (ymax-ymin), fill=False, color='red')\n",
    "        ax = plt.gca()\n",
    "        ax.axes.add_patch(rect)"
   ]
  },
  {
   "cell_type": "code",
   "execution_count": null,
   "metadata": {},
   "outputs": [],
   "source": []
  }
 ],
 "metadata": {
  "kernelspec": {
   "display_name": "Python 3",
   "language": "python",
   "name": "python3"
  },
  "language_info": {
   "codemirror_mode": {
    "name": "ipython",
    "version": 3
   },
   "file_extension": ".py",
   "mimetype": "text/x-python",
   "name": "python",
   "nbconvert_exporter": "python",
   "pygments_lexer": "ipython3",
   "version": "3.6.6"
  }
 },
 "nbformat": 4,
 "nbformat_minor": 4
}
